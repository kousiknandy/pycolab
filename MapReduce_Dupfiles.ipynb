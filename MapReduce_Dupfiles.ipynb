{
  "nbformat": 4,
  "nbformat_minor": 0,
  "metadata": {
    "colab": {
      "provenance": [],
      "authorship_tag": "ABX9TyO1Zhjq4fyn5BSBjrOS/5su",
      "include_colab_link": true
    },
    "kernelspec": {
      "name": "python3",
      "display_name": "Python 3"
    },
    "language_info": {
      "name": "python"
    }
  },
  "cells": [
    {
      "cell_type": "markdown",
      "metadata": {
        "id": "view-in-github",
        "colab_type": "text"
      },
      "source": [
        "<a href=\"https://colab.research.google.com/github/kousiknandy/pycolab/blob/main/MapReduce_Dupfiles.ipynb\" target=\"_parent\"><img src=\"https://colab.research.google.com/assets/colab-badge.svg\" alt=\"Open In Colab\"/></a>"
      ]
    },
    {
      "cell_type": "code",
      "execution_count": 35,
      "metadata": {
        "id": "KaZO14ZfrRiB"
      },
      "outputs": [],
      "source": [
        "import hashlib\n",
        "import glob\n",
        "from concurrent.futures import ProcessPoolExecutor\n",
        "from collections import defaultdict\n",
        "import os\n",
        "\n",
        "def hash_file(filename):\n",
        "    with open(filename, \"rb\") as f:\n",
        "        digest = hashlib.file_digest(f, \"sha256\")\n",
        "    # print(f\"{os.getpid()} {filename}\")\n",
        "    return digest.hexdigest(), filename\n",
        "\n",
        "def files(patt):\n",
        "    yield from glob.iglob(patt)\n",
        "\n",
        "def djb_hash(s, m):\n",
        "    h = 5381\n",
        "    for c in s:\n",
        "        h = h * 33 + ord(c)\n",
        "    return h % m\n",
        "\n",
        "def duplicates(hashes):\n",
        "    hashes = {k:v for k,v in hashes.items() if len(v) > 1}\n",
        "    return hashes\n",
        "\n",
        "class MapReducer:\n",
        "    def __init__(self, mapper, reducer, partitions=1):\n",
        "        self.mapper = mapper\n",
        "        self.reducer = reducer\n",
        "        self.parts = partitions\n",
        "\n",
        "    def partition(self, results):\n",
        "        parts = [defaultdict(list) for _ in range(self.parts)]\n",
        "        for h, f in results:\n",
        "            parts[djb_hash(h, self.parts)][h].append(f)\n",
        "        return parts\n",
        "\n",
        "    def run(self, input_files):\n",
        "        with ProcessPoolExecutor(max_workers=3) as executor:\n",
        "            results = executor.map(self.mapper, files(input_files), chunksize=5)\n",
        "        parts = self.partition(results)\n",
        "        with ProcessPoolExecutor(max_workers=2) as executor:\n",
        "            results = executor.map(self.reducer, parts)\n",
        "        for res in results:\n",
        "            print(res.values())\n"
      ]
    },
    {
      "cell_type": "code",
      "source": [
        "m = MapReducer(hash_file, duplicates, 2)\n",
        "m.run(\"/home/dups/**/*\")"
      ],
      "metadata": {
        "colab": {
          "base_uri": "https://localhost:8080/"
        },
        "id": "ARJalwOe7els",
        "outputId": "ca1fd3cc-7a58-4ec3-98a5-0b248b16ec4d"
      },
      "execution_count": 36,
      "outputs": [
        {
          "output_type": "stream",
          "name": "stdout",
          "text": [
            "44647 /home/dups/5/data3.txt\n",
            "44647 /home/dups/5/data8.txt\n",
            "44647 /home/dups/5/data4.txt\n",
            "44647 /home/dups/5/data9.txt\n",
            "44647 /home/dups/5/data2.txt\n",
            "44647 /home/dups/5/data1.txt\n",
            "44647 /home/dups/5/data7.txt\n",
            "44647 /home/dups/5/data5.txt\n",
            "44647 /home/dups/5/data6.txt\n",
            "44647 /home/dups/3/data3.txt\n",
            "44647 /home/dups/3/data8.txt\n",
            "44647 /home/dups/3/data4.txt\n",
            "44647 /home/dups/3/data9.txt\n",
            "44647 /home/dups/3/data2.txt\n",
            "44647 /home/dups/3/data1.txt\n",
            "44647 /home/dups/3/data7.txt\n",
            "44647 /home/dups/3/data5.txt\n",
            "44647 /home/dups/3/data6.txt\n",
            "44647 /home/dups/4/data3.txt\n",
            "44647 /home/dups/4/data8.txt\n",
            "44647 /home/dups/4/data4.txt\n",
            "44647 /home/dups/4/data9.txt\n",
            "44647 /home/dups/4/data2.txt\n",
            "44647 /home/dups/4/data1.txt\n",
            "44647 /home/dups/4/data7.txt\n",
            "44647 /home/dups/4/data5.txt\n",
            "44647 /home/dups/4/data6.txt\n",
            "44647 /home/dups/1/data3.txt\n",
            "44647 /home/dups/1/data8.txt\n",
            "44647 /home/dups/1/data4.txt\n",
            "44647 /home/dups/1/data9.txt\n",
            "44647 /home/dups/1/data2.txt\n",
            "44647 /home/dups/1/data1.txt\n",
            "44647 /home/dups/1/data7.txt\n",
            "44647 /home/dups/1/data5.txt\n",
            "44647 /home/dups/1/data6.txt\n",
            "44647 /home/dups/6/data3.txt\n",
            "44647 /home/dups/6/data8.txt\n",
            "44647 /home/dups/6/data4.txt\n",
            "44647 /home/dups/6/data9.txt\n",
            "44647 /home/dups/6/data2.txt\n",
            "44647 /home/dups/6/data1.txt\n",
            "44647 /home/dups/6/data7.txt\n",
            "44647 /home/dups/6/data5.txt\n",
            "44647 /home/dups/6/data6.txt\n",
            "44647 /home/dups/2/data3.txt\n",
            "44647 /home/dups/2/data8.txt\n",
            "44647 /home/dups/2/data4.txt\n",
            "44647 /home/dups/2/data9.txt\n",
            "44647 /home/dups/2/data2.txt\n",
            "44647 /home/dups/2/data1.txt\n",
            "44647 /home/dups/2/data7.txt\n",
            "44647 /home/dups/2/data5.txt\n",
            "44647 /home/dups/2/data6.txt\n",
            "dict_values([['/home/dups/5/data5.txt', '/home/dups/6/data7.txt', '/home/dups/6/data5.txt'], ['/home/dups/3/data8.txt', '/home/dups/3/data4.txt'], ['/home/dups/4/data1.txt', '/home/dups/2/data2.txt']])\n",
            "dict_values([['/home/dups/5/data8.txt', '/home/dups/6/data8.txt', '/home/dups/2/data1.txt'], ['/home/dups/5/data9.txt', '/home/dups/1/data5.txt', '/home/dups/6/data6.txt'], ['/home/dups/5/data1.txt', '/home/dups/6/data3.txt'], ['/home/dups/5/data6.txt', '/home/dups/1/data9.txt', '/home/dups/6/data9.txt'], ['/home/dups/4/data4.txt', '/home/dups/2/data7.txt', '/home/dups/2/data6.txt']])\n"
          ]
        }
      ]
    }
  ]
}