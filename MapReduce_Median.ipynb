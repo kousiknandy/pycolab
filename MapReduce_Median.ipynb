{
  "nbformat": 4,
  "nbformat_minor": 0,
  "metadata": {
    "colab": {
      "provenance": [],
      "authorship_tag": "ABX9TyPa79YWdHfIU1q9PqfmF0qC",
      "include_colab_link": true
    },
    "kernelspec": {
      "name": "python3",
      "display_name": "Python 3"
    },
    "language_info": {
      "name": "python"
    }
  },
  "cells": [
    {
      "cell_type": "markdown",
      "metadata": {
        "id": "view-in-github",
        "colab_type": "text"
      },
      "source": [
        "<a href=\"https://colab.research.google.com/github/kousiknandy/pycolab/blob/main/MapReduce_Median.ipynb\" target=\"_parent\"><img src=\"https://colab.research.google.com/assets/colab-badge.svg\" alt=\"Open In Colab\"/></a>"
      ]
    },
    {
      "cell_type": "code",
      "execution_count": 3,
      "metadata": {
        "id": "ygrh6qwPeame"
      },
      "outputs": [],
      "source": [
        "from collections import Counter, defaultdict\n",
        "import glob\n",
        "from concurrent.futures import ThreadPoolExecutor\n",
        "\n",
        "class Mapper:\n",
        "    def __init__(self, itrable):\n",
        "        self.counts = Counter(itrable)\n",
        "\n",
        "    def __call__(self):\n",
        "        return self.counts\n",
        "\n",
        "class Emitter:\n",
        "    def __init__(self, filename):\n",
        "        self.filename = filename\n",
        "\n",
        "    def __call__(self):\n",
        "        with open(self.filename) as f:\n",
        "            for l in f:\n",
        "                yield int(l)\n",
        "\n",
        "class Readers:\n",
        "    def __init__(self, glob):\n",
        "        self.glob = glob\n",
        "\n",
        "    def __call__(self):\n",
        "        yield from glob.glob(self.glob)\n",
        "\n",
        "class Partition:\n",
        "    def __init__(self, partitions=1):\n",
        "        self.partitions = [defaultdict(list)] * partitions\n",
        "        self.n = partitions\n",
        "\n",
        "    def __call__(self, iterables):\n",
        "        for counters in iterables:\n",
        "            for k, v in counters.items():\n",
        "                self.partitions[k % self.n][k].append(v)\n",
        "        yield from self.partitions\n",
        "\n",
        "class Reducer:\n",
        "    def __init__(self, counters):\n",
        "        self.counters = counters\n",
        "\n",
        "    def sum_up(self):\n",
        "        self.sums = {}\n",
        "        for k, v in self.counters.items():\n",
        "            self.sums[k] = sum(v)\n",
        "        return self\n",
        "\n",
        "    def mode(self):\n",
        "        mode_f, mode_v = 0, 0\n",
        "        for k,v in self.sums.items():\n",
        "            if v > mode_v:\n",
        "                mode_f = k\n",
        "                mode_v = v\n",
        "        return mode_f\n",
        "\n",
        "    def median(self):\n",
        "        tot = sum(self.sums.values())\n",
        "        m, d = divmod(tot, 2)\n",
        "        p = 0\n",
        "        m1 = None\n",
        "        for k in sorted(self.sums.keys()):\n",
        "            p += self.sums[k]\n",
        "            if p >= m:\n",
        "                if d:\n",
        "                    if p >= m + d:\n",
        "                        return k\n",
        "                else:\n",
        "                    if p > m:\n",
        "                        if m1:\n",
        "                            return (m1 + k) / 2.0\n",
        "                        else:\n",
        "                            return k\n",
        "                    else:\n",
        "                        m1 = k\n",
        "\n",
        "\n",
        "class MapReducer:\n",
        "    def __init__(self, glob, parts=1):\n",
        "        self.glob = glob\n",
        "        self.parts = parts\n",
        "\n",
        "    def map(self, filename):\n",
        "        e = Emitter(filename)\n",
        "        m = Mapper(e())\n",
        "        return m()\n",
        "\n",
        "    def reduce_mode(self, counters):\n",
        "        r = Reducer(counters)\n",
        "        return r.sum_up().mode()\n",
        "\n",
        "    def reduce_median(self, counters):\n",
        "        r = Reducer(counters)\n",
        "        return r.sum_up().median()\n",
        "\n",
        "    def __call__(self):\n",
        "        r = Readers(self.glob)\n",
        "        with ThreadPoolExecutor(max_workers=2) as executor:\n",
        "            res = executor.map(self.map, r())\n",
        "        p = Partition(partitions=self.parts)\n",
        "        with ThreadPoolExecutor(max_workers=2) as executor:\n",
        "            res = executor.map(self.reduce_median, p(res))\n",
        "        print(max(res))\n",
        "\n"
      ]
    },
    {
      "cell_type": "code",
      "source": [
        "m = MapReducer(\"/home/data*.txt\")\n",
        "m()"
      ],
      "metadata": {
        "colab": {
          "base_uri": "https://localhost:8080/"
        },
        "id": "1YZg474Y9_XU",
        "outputId": "01c10af8-ff4d-422e-ecea-5151083519f3"
      },
      "execution_count": 4,
      "outputs": [
        {
          "output_type": "stream",
          "name": "stdout",
          "text": [
            "57\n"
          ]
        }
      ]
    }
  ]
}