{
  "nbformat": 4,
  "nbformat_minor": 0,
  "metadata": {
    "colab": {
      "provenance": [],
      "authorship_tag": "ABX9TyN6my8I4DHMoTivK4r37Laj",
      "include_colab_link": true
    },
    "kernelspec": {
      "name": "python3",
      "display_name": "Python 3"
    },
    "language_info": {
      "name": "python"
    }
  },
  "cells": [
    {
      "cell_type": "markdown",
      "metadata": {
        "id": "view-in-github",
        "colab_type": "text"
      },
      "source": [
        "<a href=\"https://colab.research.google.com/github/kousiknandy/pycolab/blob/main/SimpleWiki_Related.ipynb\" target=\"_parent\"><img src=\"https://colab.research.google.com/assets/colab-badge.svg\" alt=\"Open In Colab\"/></a>"
      ]
    },
    {
      "cell_type": "code",
      "execution_count": 25,
      "metadata": {
        "id": "aH8HCyE0oYLN"
      },
      "outputs": [],
      "source": [
        "import urllib3\n",
        "from bs4 import BeautifulSoup\n",
        "\n",
        "class WikiRelated:\n",
        "  host = \"https://simple.wikipedia.org\"\n",
        "\n",
        "  def __init__(self, url):\n",
        "    self.url = url\n",
        "    self.data = None\n",
        "\n",
        "  def __call__(self):\n",
        "    resp = urllib3.request(\"GET\", self.host + self.url)\n",
        "    if resp.status != 200: return None\n",
        "    self.data = resp.data\n",
        "    return resp.data\n",
        "\n",
        "  def related(self):\n",
        "    if not self.data: self()\n",
        "    if not self.data: return\n",
        "    soup = BeautifulSoup(self.data, \"html.parser\")\n",
        "    h2 = soup.find(id=\"Related_pages\")\n",
        "    rl = h2.parent.next_siblings\n",
        "    _ = next(rl)\n",
        "    ul = next(rl)\n",
        "    links = ul.find_all(\"a\")\n",
        "    for l in links: yield l[\"href\"]\n"
      ]
    },
    {
      "cell_type": "code",
      "source": [
        "s = WikiRelated(\"/wiki/Computer_science\")\n",
        "list(s.related())"
      ],
      "metadata": {
        "colab": {
          "base_uri": "https://localhost:8080/"
        },
        "id": "g_rb0HEZqS5y",
        "outputId": "1fe99a9a-7110-419e-8942-69e3049e1931"
      },
      "execution_count": 26,
      "outputs": [
        {
          "output_type": "execute_result",
          "data": {
            "text/plain": [
              "['/wiki/Computing',\n",
              " '/wiki/Formal_language',\n",
              " '/wiki/Turing_Award',\n",
              " '/wiki/Computer_jargon',\n",
              " '/wiki/List_of_words_about_computers']"
            ]
          },
          "metadata": {},
          "execution_count": 26
        }
      ]
    }
  ]
}