{
  "nbformat": 4,
  "nbformat_minor": 0,
  "metadata": {
    "colab": {
      "provenance": [],
      "authorship_tag": "ABX9TyO/97oR8wltbyluKfLB5GOr",
      "include_colab_link": true
    },
    "kernelspec": {
      "name": "python3",
      "display_name": "Python 3"
    },
    "language_info": {
      "name": "python"
    }
  },
  "cells": [
    {
      "cell_type": "markdown",
      "metadata": {
        "id": "view-in-github",
        "colab_type": "text"
      },
      "source": [
        "<a href=\"https://colab.research.google.com/github/kousiknandy/pycolab/blob/main/SimpleWiki_Related.ipynb\" target=\"_parent\"><img src=\"https://colab.research.google.com/assets/colab-badge.svg\" alt=\"Open In Colab\"/></a>"
      ]
    },
    {
      "cell_type": "code",
      "execution_count": 88,
      "metadata": {
        "id": "aH8HCyE0oYLN"
      },
      "outputs": [],
      "source": [
        "import urllib3\n",
        "from bs4 import BeautifulSoup\n",
        "from concurrent.futures import ThreadPoolExecutor, as_completed\n",
        "from threading import Lock\n",
        "from collections import deque\n",
        "import time\n",
        "\n",
        "class WikiRelated:\n",
        "  host = \"https://simple.wikipedia.org\"\n",
        "\n",
        "  def __init__(self, url):\n",
        "    self.url = url\n",
        "    self.data = self._fetch()\n",
        "\n",
        "  def _fetch(self):\n",
        "    resp = urllib3.request(\"GET\", self.host + self.url, retries=2, timeout=2)\n",
        "    if resp.status != 200: return None\n",
        "    return resp.data\n",
        "\n",
        "  def related(self):\n",
        "    if not self.data: return None\n",
        "    soup = BeautifulSoup(self.data, \"html.parser\")\n",
        "    if not (h2 := soup.find(id=\"Related_pages\")):\n",
        "      return None\n",
        "    rl = h2.parent.next_siblings\n",
        "    _ = next(rl)\n",
        "    ul = next(rl)\n",
        "    links = ul.find_all(\"a\")\n",
        "    return [l[\"href\"] for l in links if l[\"href\"].startswith(\"/wiki/\")]\n"
      ]
    },
    {
      "cell_type": "code",
      "source": [
        "s = WikiRelated(\"/wiki/Computer_science\")\n",
        "s.related()"
      ],
      "metadata": {
        "colab": {
          "base_uri": "https://localhost:8080/"
        },
        "id": "g_rb0HEZqS5y",
        "outputId": "e936729e-9d47-4eda-fa4d-f31567e7076e"
      },
      "execution_count": 89,
      "outputs": [
        {
          "output_type": "execute_result",
          "data": {
            "text/plain": [
              "['/wiki/Computing',\n",
              " '/wiki/Formal_language',\n",
              " '/wiki/Turing_Award',\n",
              " '/wiki/Computer_jargon',\n",
              " '/wiki/List_of_words_about_computers']"
            ]
          },
          "metadata": {},
          "execution_count": 89
        }
      ]
    },
    {
      "cell_type": "code",
      "source": [
        "visited_urls, visited_lock = set(), Lock()\n",
        "max_depth = 5"
      ],
      "metadata": {
        "id": "DNKDX1fUXvKp"
      },
      "execution_count": 90,
      "outputs": []
    },
    {
      "cell_type": "code",
      "source": [
        "def crawl_url(url, visited_url, visited_lock, depth):\n",
        "  if depth > max_depth: return None\n",
        "  with visited_lock:\n",
        "    if url in visited_url: return None\n",
        "    visited_url.add(url)\n",
        "  print(\"Fetching\", depth, url)\n",
        "  time.sleep(0.333333)\n",
        "  page = WikiRelated(url)\n",
        "  return page.related()\n",
        "\n",
        "# s = crawl_url(\"/wiki/Computer_science\", visited_urls, visited_lock, 15)\n",
        "# print(list(s),  visited_urls, visited_lock)"
      ],
      "metadata": {
        "id": "AhRSrUEZaPZz"
      },
      "execution_count": 91,
      "outputs": []
    },
    {
      "cell_type": "code",
      "source": [
        "seed_url = \"/wiki/Computer_science\"\n",
        "exec_queue = [(seed_url, 0)]"
      ],
      "metadata": {
        "id": "QaQ-Dw5Ic_xq"
      },
      "execution_count": 92,
      "outputs": []
    },
    {
      "cell_type": "code",
      "source": [
        "with ThreadPoolExecutor(max_workers=2) as executor:\n",
        "  while exec_queue:\n",
        "    fs = {executor.submit(crawl_url, url, visited_urls, visited_lock, d): d for url,d in exec_queue}\n",
        "    exec_queue = []\n",
        "    for fut in as_completed(fs):\n",
        "      if next_urls := fut.result():\n",
        "        print(next_urls)\n",
        "        exec_queue.extend([(u, fs[fut]+1) for u in next_urls])"
      ],
      "metadata": {
        "colab": {
          "base_uri": "https://localhost:8080/"
        },
        "id": "PMrzxRPyhWXH",
        "outputId": "3cbcecd3-a63e-4b89-ad19-4233244ab6b4"
      },
      "execution_count": 93,
      "outputs": [
        {
          "output_type": "stream",
          "name": "stdout",
          "text": [
            "Fetching 0 /wiki/Computer_science\n",
            "['/wiki/Computing', '/wiki/Formal_language', '/wiki/Turing_Award', '/wiki/Computer_jargon', '/wiki/List_of_words_about_computers']\n",
            "Fetching 1 /wiki/Computing\n",
            "Fetching 1 /wiki/Formal_language\n"
          ]
        },
        {
          "output_type": "stream",
          "name": "stderr",
          "text": [
            "WARNING:urllib3.connectionpool:Connection pool is full, discarding connection: simple.wikipedia.org. Connection pool size: 1\n"
          ]
        },
        {
          "output_type": "stream",
          "name": "stdout",
          "text": [
            "Fetching 1 /wiki/Turing_Award\n",
            "['/wiki/Computing', '/wiki/Formal_language', '/wiki/Turing_Award', '/wiki/Computer_jargon', '/wiki/List_of_words_about_computers']\n",
            "Fetching['/wiki/Language', '/wiki/Syntax', '/wiki/Semantics', '/wiki/Natural_language', '/wiki/Computer_language', '/wiki/Programming_language']\n",
            " 1 /wiki/Computer_jargon\n",
            "Fetching 1 /wiki/List_of_words_about_computers\n",
            "FetchingFetching 2 /wiki/Syntax\n",
            " 2 /wiki/Language\n"
          ]
        },
        {
          "output_type": "stream",
          "name": "stderr",
          "text": [
            "WARNING:urllib3.connectionpool:Connection pool is full, discarding connection: simple.wikipedia.org. Connection pool size: 1\n"
          ]
        },
        {
          "output_type": "stream",
          "name": "stdout",
          "text": [
            "Fetching 2 /wiki/Semantics\n",
            "['/wiki/Phrase', '/wiki/Grammar']\n",
            "Fetching 2 /wiki/Natural_language\n",
            "Fetching 2 /wiki/Computer_language\n",
            "Fetching 2 /wiki/Programming_language\n",
            "['/wiki/Artificial_language', '/wiki/Formal_language', '/wiki/Natural_language_processing']\n",
            "['/wiki/Algorithm', '/wiki/Formal_language', '/wiki/List_of_programming_languages', '/wiki/Programmer', '/wiki/Compiler', '/wiki/Computer_programming', '/wiki/Programming_paradigm', '/wiki/Pseudocode']\n",
            "['/wiki/Algorithm', '/wiki/Formal_language', '/wiki/List_of_programming_languages', '/wiki/Programmer', '/wiki/Compiler', '/wiki/Computer_programming', '/wiki/Programming_paradigm', '/wiki/Pseudocode']\n",
            "Fetching 3 /wiki/Phrase\n",
            "Fetching 3 /wiki/Grammar\n"
          ]
        },
        {
          "output_type": "stream",
          "name": "stderr",
          "text": [
            "WARNING:urllib3.connectionpool:Connection pool is full, discarding connection: simple.wikipedia.org. Connection pool size: 1\n"
          ]
        },
        {
          "output_type": "stream",
          "name": "stdout",
          "text": [
            "Fetching 3 /wiki/Artificial_language\n",
            "Fetching['/wiki/Hebrew', '/wiki/Linguistics', '/wiki/Greek_alphabet', '/wiki/Iranic_languages', '/wiki/List_of_languages', '/wiki/Hebrew_alphabet', '/wiki/Japonic_languages', '/wiki/Phoenician_alphabet', '/wiki/Afro-Asiatic_languages', '/wiki/Indo-Iranian_languages', '/wiki/Sino-Tibetan_languages', '/wiki/Indo-European_languages']\n",
            " 3 /wiki/Natural_language_processing\n",
            "Fetching 3 /wiki/Algorithm\n",
            "['/wiki/Constructed_language', '/wiki/Natural_language', '/wiki/Computer_language']\n"
          ]
        },
        {
          "output_type": "stream",
          "name": "stderr",
          "text": [
            "WARNING:urllib3.connectionpool:Connection pool is full, discarding connection: simple.wikipedia.org. Connection pool size: 1\n"
          ]
        },
        {
          "output_type": "stream",
          "name": "stdout",
          "text": [
            "Fetching 3 /wiki/List_of_programming_languages\n",
            "Fetching['/wiki/Euclidean_algorithm', '/wiki/Greatest_common_divisor', '/wiki/Numerical_analysis']\n",
            " 3 /wiki/Programmer\n",
            "Fetching 3 /wiki/Compiler\n",
            "Fetching 3 /wiki/Computer_programming\n",
            "Fetching 3 /wiki/Programming_paradigm\n",
            "Fetching 3 /wiki/Pseudocode\n",
            "FetchingFetching 4 /wiki/Linguistics\n",
            " 4 /wiki/Hebrew\n"
          ]
        },
        {
          "output_type": "stream",
          "name": "stderr",
          "text": [
            "WARNING:urllib3.connectionpool:Connection pool is full, discarding connection: simple.wikipedia.org. Connection pool size: 1\n"
          ]
        },
        {
          "output_type": "stream",
          "name": "stdout",
          "text": [
            "Fetching['/wiki/Phoenician_alphabet']\n",
            " 4 /wiki/Greek_alphabet\n",
            "Fetching 4 /wiki/Iranic_languages\n",
            "Fetching['/wiki/Ancient_Greek_language', '/wiki/Greek_language', '/wiki/History_of_the_alphabet']\n",
            " 4 /wiki/List_of_languages\n",
            "Fetching 4 /wiki/Hebrew_alphabet\n",
            "Fetching['/wiki/Language', '/wiki/Constructed_language', '/wiki/List_of_fictional_languages', '/wiki/List_of_programming_languages', '/wiki/Sign_language']\n",
            " 4 /wiki/Japonic_languages\n",
            "Fetching 4 /wiki/Phoenician_alphabet\n",
            "['/wiki/Phoenician_alphabet']\n",
            "Fetching 4 /wiki/Afro-Asiatic_languages\n",
            "Fetching 4 /wiki/Indo-Iranian_languages\n",
            "Fetching 4 /wiki/Sino-Tibetan_languages\n",
            "Fetching 4 /wiki/Indo-European_languages\n",
            "Fetching['/wiki/Chinese_language']\n",
            " 4 /wiki/Constructed_language\n",
            "Fetching 4 /wiki/Euclidean_algorithm\n",
            "Fetching 4 /wiki/Greatest_common_divisor\n",
            "Fetching 4 /wiki/Numerical_analysis\n",
            "['/wiki/Coprime', '/wiki/Euclid%27s_Elements', '/wiki/Least_common_multiple']\n",
            "['/wiki/Wikipedia:Sister_projects']\n",
            "Fetching 5 /wiki/Ancient_Greek_language\n",
            "Fetching 5 /wiki/Greek_language\n"
          ]
        },
        {
          "output_type": "stream",
          "name": "stderr",
          "text": [
            "WARNING:urllib3.connectionpool:Connection pool is full, discarding connection: simple.wikipedia.org. Connection pool size: 1\n"
          ]
        },
        {
          "output_type": "stream",
          "name": "stdout",
          "text": [
            "Fetching 5 /wiki/History_of_the_alphabet\n",
            "['/wiki/Greek_alphabet', '/wiki/Greek_language']\n",
            "Fetching['/wiki/Greek_numbers']\n",
            " 5 /wiki/List_of_fictional_languages\n",
            "Fetching 5 /wiki/Sign_language\n",
            "Fetching 5 /wiki/Chinese_language\n",
            "Fetching 5 /wiki/Coprime\n",
            "['/wiki/American_Sign_Language', '/wiki/Deaf']\n",
            "Fetching['/wiki/Chinese_remainder_theorem', '/wiki/Euler%27s_totient_function', '/wiki/Euler%27s_totient_theorem']\n",
            " 5 /wiki/Euclid%27s_Elements\n",
            "Fetching 5 /wiki/Least_common_multiple\n",
            "['/wiki/Standard_Chinese', '/wiki/Mandarin_Chinese', '/wiki/Cantonese_language']\n",
            "Fetching 5 /wiki/Wikipedia:Sister_projects\n",
            "['/wiki/Scalar', '/wiki/Algebra', '/wiki/Arithmetic', '/wiki/Pure_mathematics', '/wiki/Mathematical_analysis', '/wiki/Greatest_common_divisor']\n"
          ]
        }
      ]
    },
    {
      "cell_type": "code",
      "source": [
        "visited_lock"
      ],
      "metadata": {
        "colab": {
          "base_uri": "https://localhost:8080/"
        },
        "id": "c2RsMhrkq18r",
        "outputId": "d39277bc-6119-46f2-fcf7-f05e143d426d"
      },
      "execution_count": 94,
      "outputs": [
        {
          "output_type": "execute_result",
          "data": {
            "text/plain": [
              "<unlocked _thread.lock object at 0x7f4b9928a840>"
            ]
          },
          "metadata": {},
          "execution_count": 94
        }
      ]
    }
  ]
}