{
  "nbformat": 4,
  "nbformat_minor": 0,
  "metadata": {
    "colab": {
      "provenance": [],
      "authorship_tag": "ABX9TyMLU2OtSOMyeabwiwRBFv2r",
      "include_colab_link": true
    },
    "kernelspec": {
      "name": "python3",
      "display_name": "Python 3"
    },
    "language_info": {
      "name": "python"
    }
  },
  "cells": [
    {
      "cell_type": "markdown",
      "metadata": {
        "id": "view-in-github",
        "colab_type": "text"
      },
      "source": [
        "<a href=\"https://colab.research.google.com/github/kousiknandy/pycolab/blob/main/MapReduce_Mode.ipynb\" target=\"_parent\"><img src=\"https://colab.research.google.com/assets/colab-badge.svg\" alt=\"Open In Colab\"/></a>"
      ]
    },
    {
      "cell_type": "code",
      "execution_count": 25,
      "metadata": {
        "id": "ygrh6qwPeame"
      },
      "outputs": [],
      "source": [
        "from collections import Counter, defaultdict\n",
        "import glob\n",
        "from concurrent.futures import ThreadPoolExecutor\n",
        "\n",
        "class Mapper:\n",
        "    def __init__(self, itrable):\n",
        "        self.counts = Counter(itrable)\n",
        "\n",
        "    def __call__(self):\n",
        "        return self.counts\n",
        "\n",
        "class Emitter:\n",
        "    def __init__(self, filename):\n",
        "        self.filename = filename\n",
        "\n",
        "    def __call__(self):\n",
        "        with open(self.filename) as f:\n",
        "            for l in f:\n",
        "                yield int(l)\n",
        "\n",
        "class Readers:\n",
        "    def __init__(self, glob):\n",
        "        self.glob = glob\n",
        "\n",
        "    def __call__(self):\n",
        "        yield from glob.glob(self.glob)\n",
        "\n",
        "class Partition:\n",
        "    def __init__(self, partitions=1):\n",
        "        self.partitions = [defaultdict(list)] * partitions\n",
        "        self.n = partitions\n",
        "\n",
        "    def __call__(self, iterables):\n",
        "        for counters in iterables:\n",
        "            for k, v in counters.items():\n",
        "                self.partitions[k % self.n][k].append(v)\n",
        "        yield from self.partitions\n",
        "\n",
        "class Reducer:\n",
        "    def __init__(self, counters):\n",
        "        self.counters = counters\n",
        "\n",
        "    def sum_up(self):\n",
        "        self.sums = {}\n",
        "        for k, v in self.counters.items():\n",
        "            self.sums[k] = sum(v)\n",
        "        return self\n",
        "\n",
        "    def mode(self):\n",
        "        mode_f, mode_v = 0, 0\n",
        "        for k,v in self.sums.items():\n",
        "            if v > mode_v:\n",
        "                mode_f = k\n",
        "                mode_v = v\n",
        "        return mode_f\n",
        "\n",
        "class MapReducer:\n",
        "    def __init__(self, glob, parts=1):\n",
        "        self.glob = glob\n",
        "        self.parts = parts\n",
        "\n",
        "    def map(self, filename):\n",
        "        e = Emitter(filename)\n",
        "        m = Mapper(e())\n",
        "        return m()\n",
        "\n",
        "    def reduce(self, counters):\n",
        "        r = Reducer(counters)\n",
        "        return r.sum_up().mode()\n",
        "\n",
        "    def __call__(self):\n",
        "        r = Readers(self.glob)\n",
        "        with ThreadPoolExecutor(max_workers=2) as executor:\n",
        "            res = executor.map(self.map, r())\n",
        "        p = Partition(partitions=self.parts)\n",
        "        with ThreadPoolExecutor(max_workers=2) as executor:\n",
        "            res = executor.map(self.reduce, p(res))\n",
        "        print(max(res))\n",
        "\n"
      ]
    },
    {
      "cell_type": "code",
      "source": [
        "m = MapReducer(\"/home/data*.txt\")\n",
        "m()"
      ],
      "metadata": {
        "colab": {
          "base_uri": "https://localhost:8080/"
        },
        "id": "1YZg474Y9_XU",
        "outputId": "189b9049-5e40-43b4-ce9e-e9cb75c04d24"
      },
      "execution_count": 26,
      "outputs": [
        {
          "output_type": "stream",
          "name": "stdout",
          "text": [
            "26\n"
          ]
        }
      ]
    }
  ]
}